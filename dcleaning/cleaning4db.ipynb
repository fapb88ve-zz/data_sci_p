{
 "cells": [
  {
   "cell_type": "markdown",
   "metadata": {},
   "source": [
    "# Data cleaning project for a SQLite Database\n",
    "\n",
    "The following project is intended to clean a Dataset in order to introduce it to a SQLite database (db). Specifically this project will make sure that all entries will have the same format to allow for proper querying in a db.\n",
    "\n",
    "## The Dataset\n",
    "\n",
    "The Dataset that will be used for this project contains information about the the Academy Award Winners and Nominees from 1928 till 2010. This dataset will be contained in the \"academy_awards.csv\" file.\n",
    "\n",
    "The columns are as follow:\n",
    "\n",
    "1) Year: year(s) of the award ceremony.\n",
    "\n",
    "2) Category: category of the award the nominee was nominated for.\n",
    "\n",
    "3) Nominee: person nominated for the award.\n",
    "\n",
    "4) Aditional Info: cotains things like:\n",
    "\n",
    "- the movie the nominee participated in.\n",
    "\n",
    "- the character the nominee played.\n",
    "\n",
    "5) Won?: contains yes and no to express if it won."
   ]
  },
  {
   "cell_type": "markdown",
   "metadata": {},
   "source": [
    "## Cleaning the Dataset"
   ]
  },
  {
   "cell_type": "code",
   "execution_count": 1,
   "metadata": {
    "collapsed": true
   },
   "outputs": [],
   "source": [
    "import pandas as pd\n",
    "import sqlite3"
   ]
  },
  {
   "cell_type": "code",
   "execution_count": 2,
   "metadata": {
    "collapsed": false
   },
   "outputs": [
    {
     "name": "stdout",
     "output_type": "stream",
     "text": [
      "<class 'pandas.core.frame.DataFrame'>\n",
      "RangeIndex: 10137 entries, 0 to 10136\n",
      "Data columns (total 11 columns):\n",
      "Year               10137 non-null object\n",
      "Category           10137 non-null object\n",
      "Nominee            10137 non-null object\n",
      "Additional Info    9011 non-null object\n",
      "Won?               10137 non-null object\n",
      "Unnamed: 5         11 non-null object\n",
      "Unnamed: 6         12 non-null object\n",
      "Unnamed: 7         3 non-null object\n",
      "Unnamed: 8         2 non-null object\n",
      "Unnamed: 9         1 non-null object\n",
      "Unnamed: 10        1 non-null object\n",
      "dtypes: object(11)\n",
      "memory usage: 871.2+ KB\n"
     ]
    }
   ],
   "source": [
    "df = pd.read_csv('academy_awards.csv', encoding= \"ISO-8859-1\")\n",
    "df.info()"
   ]
  },
  {
   "cell_type": "raw",
   "metadata": {
    "collapsed": true
   },
   "source": [
    "From an initial point of view, the dataset has 11 columns and 10137 rows. Of these, only 4 have their full values while the rest have NaN values; these must be taken into consideration. Of these columns, the ones with \"Unnamed\" in their name may be unsalvageable, given that they are comprised of mostly NaN values.  "
   ]
  },
  {
   "cell_type": "markdown",
   "metadata": {},
   "source": [
    "### The Unnamed Columns"
   ]
  },
  {
   "cell_type": "code",
   "execution_count": 3,
   "metadata": {
    "collapsed": false
   },
   "outputs": [
    {
     "data": {
      "text/plain": [
       "Unnamed: 5     10126\n",
       "Unnamed: 6     10125\n",
       "Unnamed: 7     10134\n",
       "Unnamed: 8     10135\n",
       "Unnamed: 9     10136\n",
       "Unnamed: 10    10136\n",
       "dtype: int64"
      ]
     },
     "execution_count": 3,
     "metadata": {},
     "output_type": "execute_result"
    }
   ],
   "source": [
    "df[[i for i in df.columns if 'Unnamed' in i]].isnull().sum()"
   ]
  },
  {
   "cell_type": "markdown",
   "metadata": {},
   "source": [
    "These columns will be eliminated, given that they are mostly compromised of NaN values."
   ]
  },
  {
   "cell_type": "code",
   "execution_count": 4,
   "metadata": {
    "collapsed": false
   },
   "outputs": [
    {
     "data": {
      "text/html": [
       "<div>\n",
       "<table border=\"1\" class=\"dataframe\">\n",
       "  <thead>\n",
       "    <tr style=\"text-align: right;\">\n",
       "      <th></th>\n",
       "      <th>Year</th>\n",
       "      <th>Category</th>\n",
       "      <th>Nominee</th>\n",
       "      <th>Additional Info</th>\n",
       "      <th>Won?</th>\n",
       "    </tr>\n",
       "  </thead>\n",
       "  <tbody>\n",
       "    <tr>\n",
       "      <th>0</th>\n",
       "      <td>2010 (83rd)</td>\n",
       "      <td>Actor -- Leading Role</td>\n",
       "      <td>Javier Bardem</td>\n",
       "      <td>Biutiful {'Uxbal'}</td>\n",
       "      <td>NO</td>\n",
       "    </tr>\n",
       "    <tr>\n",
       "      <th>1</th>\n",
       "      <td>2010 (83rd)</td>\n",
       "      <td>Actor -- Leading Role</td>\n",
       "      <td>Jeff Bridges</td>\n",
       "      <td>True Grit {'Rooster Cogburn'}</td>\n",
       "      <td>NO</td>\n",
       "    </tr>\n",
       "    <tr>\n",
       "      <th>2</th>\n",
       "      <td>2010 (83rd)</td>\n",
       "      <td>Actor -- Leading Role</td>\n",
       "      <td>Jesse Eisenberg</td>\n",
       "      <td>The Social Network {'Mark Zuckerberg'}</td>\n",
       "      <td>NO</td>\n",
       "    </tr>\n",
       "    <tr>\n",
       "      <th>3</th>\n",
       "      <td>2010 (83rd)</td>\n",
       "      <td>Actor -- Leading Role</td>\n",
       "      <td>Colin Firth</td>\n",
       "      <td>The King's Speech {'King George VI'}</td>\n",
       "      <td>YES</td>\n",
       "    </tr>\n",
       "    <tr>\n",
       "      <th>4</th>\n",
       "      <td>2010 (83rd)</td>\n",
       "      <td>Actor -- Leading Role</td>\n",
       "      <td>James Franco</td>\n",
       "      <td>127 Hours {'Aron Ralston'}</td>\n",
       "      <td>NO</td>\n",
       "    </tr>\n",
       "  </tbody>\n",
       "</table>\n",
       "</div>"
      ],
      "text/plain": [
       "          Year               Category          Nominee  \\\n",
       "0  2010 (83rd)  Actor -- Leading Role    Javier Bardem   \n",
       "1  2010 (83rd)  Actor -- Leading Role     Jeff Bridges   \n",
       "2  2010 (83rd)  Actor -- Leading Role  Jesse Eisenberg   \n",
       "3  2010 (83rd)  Actor -- Leading Role      Colin Firth   \n",
       "4  2010 (83rd)  Actor -- Leading Role     James Franco   \n",
       "\n",
       "                          Additional Info Won?  \n",
       "0                      Biutiful {'Uxbal'}   NO  \n",
       "1           True Grit {'Rooster Cogburn'}   NO  \n",
       "2  The Social Network {'Mark Zuckerberg'}   NO  \n",
       "3    The King's Speech {'King George VI'}  YES  \n",
       "4              127 Hours {'Aron Ralston'}   NO  "
      ]
     },
     "execution_count": 4,
     "metadata": {},
     "output_type": "execute_result"
    }
   ],
   "source": [
    "df.drop(['Unnamed: ' + str(i) for i in range(5,11)], axis= 1, inplace = True)\n",
    "df.head()"
   ]
  },
  {
   "cell_type": "markdown",
   "metadata": {},
   "source": [
    "### The Year Column\n",
    "\n",
    "Having eliminated the columns that provided  little information for the Dataset, it is time to focus on the Year column."
   ]
  },
  {
   "cell_type": "code",
   "execution_count": 5,
   "metadata": {
    "collapsed": false
   },
   "outputs": [
    {
     "data": {
      "text/plain": [
       "1941 (14th)      192\n",
       "1942 (15th)      190\n",
       "1943 (16th)      188\n",
       "1944 (17th)      181\n",
       "1945 (18th)      163\n",
       "1940 (13th)      162\n",
       "1939 (12th)      153\n",
       "1998 (71st)      150\n",
       "1938 (11th)      145\n",
       "1954 (27th)      141\n",
       "1995 (68th)      141\n",
       "2009 (82nd)      140\n",
       "1952 (25th)      138\n",
       "1994 (67th)      138\n",
       "2001 (74th)      137\n",
       "1997 (70th)      137\n",
       "2010 (83rd)      135\n",
       "1953 (26th)      135\n",
       "1937 (10th)      135\n",
       "1956 (29th)      134\n",
       "1964 (37th)      132\n",
       "1955 (28th)      132\n",
       "1996 (69th)      131\n",
       "2006 (79th)      130\n",
       "2000 (73rd)      129\n",
       "2004 (77th)      129\n",
       "1961 (34th)      129\n",
       "1990 (63rd)      129\n",
       "1966 (39th)      129\n",
       "2005 (78th)      129\n",
       "                ... \n",
       "1993 (66th)      119\n",
       "2008 (81st)      118\n",
       "1975 (48th)      118\n",
       "1985 (58th)      116\n",
       "1950 (23rd)      116\n",
       "1983 (56th)      116\n",
       "1974 (47th)      115\n",
       "1948 (21st)      115\n",
       "1946 (19th)      115\n",
       "1936 (9th)       115\n",
       "1958 (31st)      115\n",
       "1989 (62nd)      114\n",
       "1972 (45th)      114\n",
       "1947 (20th)      114\n",
       "1980 (53rd)      113\n",
       "1967 (40th)      113\n",
       "1976 (49th)      113\n",
       "1970 (43rd)      112\n",
       "1969 (42nd)      112\n",
       "1971 (44th)      110\n",
       "1973 (46th)      109\n",
       "1957 (30th)      106\n",
       "1935 (8th)        95\n",
       "1934 (7th)        68\n",
       "1932/33 (6th)     65\n",
       "1930/31 (4th)     50\n",
       "1931/32 (5th)     47\n",
       "1929/30 (3rd)     42\n",
       "1927/28 (1st)     39\n",
       "1928/29 (2nd)     38\n",
       "Name: Year, dtype: int64"
      ]
     },
     "execution_count": 5,
     "metadata": {},
     "output_type": "execute_result"
    }
   ],
   "source": [
    "df.Year.value_counts()"
   ]
  },
  {
   "cell_type": "markdown",
   "metadata": {},
   "source": [
    "The years columns is comprised of the year(s) in which the ceremony nominated an actor or actress. It appears that the first years of the ceremony honored the nominees from a period of two years (this explains the \"/\" character). This column also specifies the number of the ceremony. Both facts must be taken into consideration:\n",
    "\n",
    "1) To avoid data redundancy, in the case of ceremonies that honored nominees from a period of years, only the first year will be considered.\n",
    "\n",
    "2) A 'ceremony_id' column will be added to consider the number of each ceremony."
   ]
  },
  {
   "cell_type": "code",
   "execution_count": 6,
   "metadata": {
    "collapsed": false
   },
   "outputs": [
    {
     "data": {
      "text/plain": [
       "0    83\n",
       "1    83\n",
       "2    83\n",
       "3    83\n",
       "4    83\n",
       "Name: ceremony_id, dtype: object"
      ]
     },
     "execution_count": 6,
     "metadata": {},
     "output_type": "execute_result"
    }
   ],
   "source": [
    "df['ceremony_id'] = [i[i.find('(')+1:i.find(')')-2] for i in df.Year]\n",
    "df.ceremony_id.head()"
   ]
  },
  {
   "cell_type": "code",
   "execution_count": 7,
   "metadata": {
    "collapsed": false
   },
   "outputs": [
    {
     "data": {
      "text/html": [
       "<div>\n",
       "<table border=\"1\" class=\"dataframe\">\n",
       "  <thead>\n",
       "    <tr style=\"text-align: right;\">\n",
       "      <th></th>\n",
       "      <th>Year</th>\n",
       "      <th>Category</th>\n",
       "      <th>Nominee</th>\n",
       "      <th>Additional Info</th>\n",
       "      <th>Won?</th>\n",
       "      <th>ceremony_id</th>\n",
       "    </tr>\n",
       "  </thead>\n",
       "  <tbody>\n",
       "    <tr>\n",
       "      <th>0</th>\n",
       "      <td>2010</td>\n",
       "      <td>Actor -- Leading Role</td>\n",
       "      <td>Javier Bardem</td>\n",
       "      <td>Biutiful {'Uxbal'}</td>\n",
       "      <td>NO</td>\n",
       "      <td>83</td>\n",
       "    </tr>\n",
       "    <tr>\n",
       "      <th>1</th>\n",
       "      <td>2010</td>\n",
       "      <td>Actor -- Leading Role</td>\n",
       "      <td>Jeff Bridges</td>\n",
       "      <td>True Grit {'Rooster Cogburn'}</td>\n",
       "      <td>NO</td>\n",
       "      <td>83</td>\n",
       "    </tr>\n",
       "    <tr>\n",
       "      <th>2</th>\n",
       "      <td>2010</td>\n",
       "      <td>Actor -- Leading Role</td>\n",
       "      <td>Jesse Eisenberg</td>\n",
       "      <td>The Social Network {'Mark Zuckerberg'}</td>\n",
       "      <td>NO</td>\n",
       "      <td>83</td>\n",
       "    </tr>\n",
       "    <tr>\n",
       "      <th>3</th>\n",
       "      <td>2010</td>\n",
       "      <td>Actor -- Leading Role</td>\n",
       "      <td>Colin Firth</td>\n",
       "      <td>The King's Speech {'King George VI'}</td>\n",
       "      <td>YES</td>\n",
       "      <td>83</td>\n",
       "    </tr>\n",
       "    <tr>\n",
       "      <th>4</th>\n",
       "      <td>2010</td>\n",
       "      <td>Actor -- Leading Role</td>\n",
       "      <td>James Franco</td>\n",
       "      <td>127 Hours {'Aron Ralston'}</td>\n",
       "      <td>NO</td>\n",
       "      <td>83</td>\n",
       "    </tr>\n",
       "  </tbody>\n",
       "</table>\n",
       "</div>"
      ],
      "text/plain": [
       "   Year               Category          Nominee  \\\n",
       "0  2010  Actor -- Leading Role    Javier Bardem   \n",
       "1  2010  Actor -- Leading Role     Jeff Bridges   \n",
       "2  2010  Actor -- Leading Role  Jesse Eisenberg   \n",
       "3  2010  Actor -- Leading Role      Colin Firth   \n",
       "4  2010  Actor -- Leading Role     James Franco   \n",
       "\n",
       "                          Additional Info Won? ceremony_id  \n",
       "0                      Biutiful {'Uxbal'}   NO          83  \n",
       "1           True Grit {'Rooster Cogburn'}   NO          83  \n",
       "2  The Social Network {'Mark Zuckerberg'}   NO          83  \n",
       "3    The King's Speech {'King George VI'}  YES          83  \n",
       "4              127 Hours {'Aron Ralston'}   NO          83  "
      ]
     },
     "execution_count": 7,
     "metadata": {},
     "output_type": "execute_result"
    }
   ],
   "source": [
    "df['Year'] = [i[:4] for i in df.Year]\n",
    "df.head()"
   ]
  },
  {
   "cell_type": "markdown",
   "metadata": {},
   "source": [
    "### The Category column\n",
    "\n",
    "The Category column has the role for which actor/actress was nominated for."
   ]
  },
  {
   "cell_type": "code",
   "execution_count": 8,
   "metadata": {
    "collapsed": false
   },
   "outputs": [
    {
     "data": {
      "text/plain": [
       "Writing                                                        888\n",
       "Music (Scoring)                                                748\n",
       "Cinematography                                                 572\n",
       "Art Direction                                                  552\n",
       "Best Picture                                                   485\n",
       "Sound                                                          460\n",
       "Short Film (Live Action)                                       434\n",
       "Scientific and Technical (Technical Achievement Award)         428\n",
       "Music (Song)                                                   413\n",
       "Actress -- Leading Role                                        411\n",
       "Directing                                                      410\n",
       "Actor -- Leading Role                                          408\n",
       "Film Editing                                                   385\n",
       "Costume Design                                                 384\n",
       "Actor -- Supporting Role                                       375\n",
       "Actress -- Supporting Role                                     375\n",
       "Short Film (Animated)                                          328\n",
       "Documentary (Short Subject)                                    323\n",
       "Documentary (Feature)                                          292\n",
       "Foreign Language Film                                          283\n",
       "Scientific and Technical (Scientific and Engineering Award)    273\n",
       "Honorary Award                                                 159\n",
       "Visual Effects                                                 117\n",
       "Sound Editing                                                  104\n",
       "Special Effects (archaic category)                              92\n",
       "Makeup                                                          86\n",
       "Scientific and Technical (Academy Award of Merit)               45\n",
       "Irving G. Thalberg Memorial Award                               44\n",
       "Animated Feature Film                                           37\n",
       "Assistant Director (archaic category)                           35\n",
       "Jean Hersholt Humanitarian Award                                33\n",
       "Scientific and Technical (Bonner Medal)                         33\n",
       "Documentary (other)                                             25\n",
       "Scientific and Technical (Gordon E. Sawyer Award)               22\n",
       "Dance Direction (archaic category)                              22\n",
       "Special Achievement Award                                       18\n",
       "Scientific and Technical (Special Awards)                       18\n",
       "Acting (other)                                                  14\n",
       "Engineering Effects (archaic category)                           3\n",
       "Unique and Artistic Picture (archaic category)                   3\n",
       "Name: Category, dtype: int64"
      ]
     },
     "execution_count": 8,
     "metadata": {},
     "output_type": "execute_result"
    }
   ],
   "source": [
    "df.Category.value_counts()"
   ]
  },
  {
   "cell_type": "code",
   "execution_count": 9,
   "metadata": {
    "collapsed": false
   },
   "outputs": [
    {
     "data": {
      "text/html": [
       "<div>\n",
       "<table border=\"1\" class=\"dataframe\">\n",
       "  <thead>\n",
       "    <tr style=\"text-align: right;\">\n",
       "      <th></th>\n",
       "      <th>Year</th>\n",
       "      <th>Category</th>\n",
       "      <th>Nominee</th>\n",
       "      <th>Additional Info</th>\n",
       "      <th>Won?</th>\n",
       "      <th>ceremony_id</th>\n",
       "    </tr>\n",
       "  </thead>\n",
       "  <tbody>\n",
       "    <tr>\n",
       "      <th>75</th>\n",
       "      <td>2010</td>\n",
       "      <td>Best Picture</td>\n",
       "      <td>Black Swan</td>\n",
       "      <td>Mike Medavoy, Brian Oliver and Scott Franklin,...</td>\n",
       "      <td>NO</td>\n",
       "      <td>83</td>\n",
       "    </tr>\n",
       "    <tr>\n",
       "      <th>76</th>\n",
       "      <td>2010</td>\n",
       "      <td>Best Picture</td>\n",
       "      <td>The Fighter</td>\n",
       "      <td>David Hoberman, Todd Lieberman and Mark Wahlbe...</td>\n",
       "      <td>NO</td>\n",
       "      <td>83</td>\n",
       "    </tr>\n",
       "    <tr>\n",
       "      <th>77</th>\n",
       "      <td>2010</td>\n",
       "      <td>Best Picture</td>\n",
       "      <td>Inception</td>\n",
       "      <td>Emma Thomas and Christopher Nolan, Producers</td>\n",
       "      <td>NO</td>\n",
       "      <td>83</td>\n",
       "    </tr>\n",
       "    <tr>\n",
       "      <th>78</th>\n",
       "      <td>2010</td>\n",
       "      <td>Best Picture</td>\n",
       "      <td>The Kids Are All Right</td>\n",
       "      <td>Gary Gilbert, Jeffrey Levy-Hinte and Celine Ra...</td>\n",
       "      <td>NO</td>\n",
       "      <td>83</td>\n",
       "    </tr>\n",
       "    <tr>\n",
       "      <th>79</th>\n",
       "      <td>2010</td>\n",
       "      <td>Best Picture</td>\n",
       "      <td>The King's Speech</td>\n",
       "      <td>Iain Canning, Emile Sherman and Gareth Unwin, ...</td>\n",
       "      <td>YES</td>\n",
       "      <td>83</td>\n",
       "    </tr>\n",
       "  </tbody>\n",
       "</table>\n",
       "</div>"
      ],
      "text/plain": [
       "    Year      Category                 Nominee  \\\n",
       "75  2010  Best Picture              Black Swan   \n",
       "76  2010  Best Picture             The Fighter   \n",
       "77  2010  Best Picture               Inception   \n",
       "78  2010  Best Picture  The Kids Are All Right   \n",
       "79  2010  Best Picture       The King's Speech   \n",
       "\n",
       "                                      Additional Info Won? ceremony_id  \n",
       "75  Mike Medavoy, Brian Oliver and Scott Franklin,...   NO          83  \n",
       "76  David Hoberman, Todd Lieberman and Mark Wahlbe...   NO          83  \n",
       "77       Emma Thomas and Christopher Nolan, Producers   NO          83  \n",
       "78  Gary Gilbert, Jeffrey Levy-Hinte and Celine Ra...   NO          83  \n",
       "79  Iain Canning, Emile Sherman and Gareth Unwin, ...  YES          83  "
      ]
     },
     "execution_count": 9,
     "metadata": {},
     "output_type": "execute_result"
    }
   ],
   "source": [
    "df[df['Category'] == 'Best Picture'].head()"
   ]
  },
  {
   "cell_type": "markdown",
   "metadata": {},
   "source": [
    "It appears that the Category column include awards that go beyond Actors; it also includes awards for movies and others. This implies that it might be better to break off the dataset when it comes time to add it to a db, given that the Additional Info column will contain different information."
   ]
  },
  {
   "cell_type": "code",
   "execution_count": 10,
   "metadata": {
    "collapsed": false
   },
   "outputs": [
    {
     "name": "stdout",
     "output_type": "stream",
     "text": [
      "Category           Actor -- Leading Role\n",
      "Additional Info       Biutiful {'Uxbal'}\n",
      "Name: 0, dtype: object\n",
      "Category               Actor -- Supporting Role\n",
      "Additional Info    The Fighter {'Dicky Eklund'}\n",
      "Name: 5, dtype: object\n",
      "Category                  Actress -- Leading Role\n",
      "Additional Info    The Kids Are All Right {'Nic'}\n",
      "Name: 10, dtype: object\n",
      "Category                 Actress -- Supporting Role\n",
      "Additional Info    The Fighter {'Charlene Fleming'}\n",
      "Name: 15, dtype: object\n",
      "Category                    Animated Feature Film\n",
      "Additional Info    Chris Sanders and Dean DeBlois\n",
      "Name: 20, dtype: object\n",
      "Category                                               Art Direction\n",
      "Additional Info    Production Design: Robert Stromberg; Set Decor...\n",
      "Name: 23, dtype: object\n",
      "Category              Cinematography\n",
      "Additional Info    Matthew Libatique\n",
      "Name: 28, dtype: object\n",
      "Category           Costume Design\n",
      "Additional Info    Colleen Atwood\n",
      "Name: 33, dtype: object\n",
      "Category                  Directing\n",
      "Additional Info    Darren Aronofsky\n",
      "Name: 38, dtype: object\n",
      "Category              Documentary (Feature)\n",
      "Additional Info    Banksy and Jaimie D'Cruz\n",
      "Name: 43, dtype: object\n",
      "Category           Documentary (Short Subject)\n",
      "Additional Info                  Jed Rothstein\n",
      "Name: 48, dtype: object\n",
      "Category              Film Editing\n",
      "Additional Info    Andrew Weisblum\n",
      "Name: 53, dtype: object\n",
      "Category           Foreign Language Film\n",
      "Additional Info                   Mexico\n",
      "Name: 58, dtype: object\n",
      "Category                 Makeup\n",
      "Additional Info    Adrien Morot\n",
      "Name: 63, dtype: object\n",
      "Category           Music (Scoring)\n",
      "Additional Info        John Powell\n",
      "Name: 66, dtype: object\n",
      "Category                                                Music (Song)\n",
      "Additional Info    Music and Lyric by Tom Douglas, Troy Verges an...\n",
      "Name: 71, dtype: object\n",
      "Category                                                Best Picture\n",
      "Additional Info    Mike Medavoy, Brian Oliver and Scott Franklin,...\n",
      "Name: 75, dtype: object\n",
      "Category           Short Film (Animated)\n",
      "Additional Info             Teddy Newton\n",
      "Name: 85, dtype: object\n",
      "Category           Short Film (Live Action)\n",
      "Additional Info                  Tanel Toom\n",
      "Name: 90, dtype: object\n",
      "Category                                                  Sound\n",
      "Additional Info    Lora Hirschberg, Gary A. Rizzo and Ed Novick\n",
      "Name: 95, dtype: object\n",
      "Category           Sound Editing\n",
      "Additional Info     Richard King\n",
      "Name: 100, dtype: object\n",
      "Category                                              Visual Effects\n",
      "Additional Info    Ken Ralston, David Schaub, Carey Villegas and ...\n",
      "Name: 105, dtype: object\n",
      "Category                                             Writing\n",
      "Additional Info    Screenplay by Danny Boyle & Simon Beaufoy\n",
      "Name: 110, dtype: object\n",
      "Category           Honorary Award\n",
      "Additional Info               NaN\n",
      "Name: 120, dtype: object\n",
      "Category           Irving G. Thalberg Memorial Award\n",
      "Additional Info                                  NaN\n",
      "Name: 123, dtype: object\n",
      "Category           Scientific and Technical (Scientific and Engin...\n",
      "Additional Info                                                  NaN\n",
      "Name: 124, dtype: object\n",
      "Category           Scientific and Technical (Technical Achievemen...\n",
      "Additional Info                                                  NaN\n",
      "Name: 128, dtype: object\n",
      "Category           Scientific and Technical (Bonner Medal)\n",
      "Additional Info                                        NaN\n",
      "Name: 134, dtype: object\n",
      "Category           Jean Hersholt Humanitarian Award\n",
      "Additional Info                                 NaN\n",
      "Name: 386, dtype: object\n",
      "Category           Scientific and Technical (Gordon E. Sawyer Award)\n",
      "Additional Info                                                  NaN\n",
      "Name: 391, dtype: object\n",
      "Category           Scientific and Technical (Academy Award of Merit)\n",
      "Additional Info                                                  NaN\n",
      "Name: 507, dtype: object\n",
      "Category           Scientific and Technical (Special Awards)\n",
      "Additional Info                                          NaN\n",
      "Name: 519, dtype: object\n",
      "Category           Special Achievement Award\n",
      "Additional Info                          NaN\n",
      "Name: 2081, dtype: object\n",
      "Category                          Special Effects (archaic category)\n",
      "Additional Info    Visual Effects by Robert MacDonald; Audible Ef...\n",
      "Name: 6075, dtype: object\n",
      "Category           Acting (other)\n",
      "Additional Info               NaN\n",
      "Name: 6226, dtype: object\n",
      "Category           Documentary (other)\n",
      "Additional Info      The March of Time\n",
      "Name: 8657, dtype: object\n",
      "Category           Assistant Director (archaic category)\n",
      "Additional Info                              Robert Webb\n",
      "Name: 9566, dtype: object\n",
      "Category           Dance Direction (archaic category)\n",
      "Additional Info                                   NaN\n",
      "Name: 9571, dtype: object\n",
      "Category           Engineering Effects (archaic category)\n",
      "Additional Info                                       NaN\n",
      "Name: 10131, dtype: object\n",
      "Category           Unique and Artistic Picture (archaic category)\n",
      "Additional Info                                           Sunrise\n",
      "Name: 10134, dtype: object\n"
     ]
    }
   ],
   "source": [
    "for i in df.Category.unique():\n",
    "    print(df[df.Category == i][['Category', 'Additional Info']].iloc[0])"
   ]
  },
  {
   "cell_type": "markdown",
   "metadata": {},
   "source": [
    "Given that there are many categories for actors and actress one table could include all of these, and their respective information."
   ]
  },
  {
   "cell_type": "code",
   "execution_count": 11,
   "metadata": {
    "collapsed": false
   },
   "outputs": [
    {
     "data": {
      "text/plain": [
       "['Actor -- Leading Role',\n",
       " 'Actor -- Supporting Role',\n",
       " 'Actress -- Leading Role',\n",
       " 'Actress -- Supporting Role',\n",
       " 'Short Film (Live Action)',\n",
       " 'Acting (other)']"
      ]
     },
     "execution_count": 11,
     "metadata": {},
     "output_type": "execute_result"
    }
   ],
   "source": [
    "act_rows = [i for i in df.Category.unique() if \"Act\" in i]\n",
    "act_rows"
   ]
  },
  {
   "cell_type": "code",
   "execution_count": 12,
   "metadata": {
    "collapsed": false
   },
   "outputs": [
    {
     "data": {
      "text/plain": [
       "['Actor -- Leading Role',\n",
       " 'Actor -- Supporting Role',\n",
       " 'Actress -- Leading Role',\n",
       " 'Actress -- Supporting Role',\n",
       " 'Acting (other)']"
      ]
     },
     "execution_count": 12,
     "metadata": {},
     "output_type": "execute_result"
    }
   ],
   "source": [
    "act_rows.remove('Short Film (Live Action)')\n",
    "act_rows"
   ]
  },
  {
   "cell_type": "code",
   "execution_count": 13,
   "metadata": {
    "collapsed": false
   },
   "outputs": [
    {
     "data": {
      "text/html": [
       "<div>\n",
       "<table border=\"1\" class=\"dataframe\">\n",
       "  <thead>\n",
       "    <tr style=\"text-align: right;\">\n",
       "      <th></th>\n",
       "      <th>Year</th>\n",
       "      <th>Category</th>\n",
       "      <th>Nominee</th>\n",
       "      <th>Additional Info</th>\n",
       "      <th>Won?</th>\n",
       "      <th>ceremony_id</th>\n",
       "    </tr>\n",
       "  </thead>\n",
       "  <tbody>\n",
       "    <tr>\n",
       "      <th>0</th>\n",
       "      <td>2010</td>\n",
       "      <td>Actor -- Leading Role</td>\n",
       "      <td>Javier Bardem</td>\n",
       "      <td>Biutiful {'Uxbal'}</td>\n",
       "      <td>NO</td>\n",
       "      <td>83</td>\n",
       "    </tr>\n",
       "    <tr>\n",
       "      <th>1</th>\n",
       "      <td>2010</td>\n",
       "      <td>Actor -- Leading Role</td>\n",
       "      <td>Jeff Bridges</td>\n",
       "      <td>True Grit {'Rooster Cogburn'}</td>\n",
       "      <td>NO</td>\n",
       "      <td>83</td>\n",
       "    </tr>\n",
       "    <tr>\n",
       "      <th>2</th>\n",
       "      <td>2010</td>\n",
       "      <td>Actor -- Leading Role</td>\n",
       "      <td>Jesse Eisenberg</td>\n",
       "      <td>The Social Network {'Mark Zuckerberg'}</td>\n",
       "      <td>NO</td>\n",
       "      <td>83</td>\n",
       "    </tr>\n",
       "    <tr>\n",
       "      <th>3</th>\n",
       "      <td>2010</td>\n",
       "      <td>Actor -- Leading Role</td>\n",
       "      <td>Colin Firth</td>\n",
       "      <td>The King's Speech {'King George VI'}</td>\n",
       "      <td>YES</td>\n",
       "      <td>83</td>\n",
       "    </tr>\n",
       "    <tr>\n",
       "      <th>4</th>\n",
       "      <td>2010</td>\n",
       "      <td>Actor -- Leading Role</td>\n",
       "      <td>James Franco</td>\n",
       "      <td>127 Hours {'Aron Ralston'}</td>\n",
       "      <td>NO</td>\n",
       "      <td>83</td>\n",
       "    </tr>\n",
       "  </tbody>\n",
       "</table>\n",
       "</div>"
      ],
      "text/plain": [
       "   Year               Category          Nominee  \\\n",
       "0  2010  Actor -- Leading Role    Javier Bardem   \n",
       "1  2010  Actor -- Leading Role     Jeff Bridges   \n",
       "2  2010  Actor -- Leading Role  Jesse Eisenberg   \n",
       "3  2010  Actor -- Leading Role      Colin Firth   \n",
       "4  2010  Actor -- Leading Role     James Franco   \n",
       "\n",
       "                          Additional Info Won? ceremony_id  \n",
       "0                      Biutiful {'Uxbal'}   NO          83  \n",
       "1           True Grit {'Rooster Cogburn'}   NO          83  \n",
       "2  The Social Network {'Mark Zuckerberg'}   NO          83  \n",
       "3    The King's Speech {'King George VI'}  YES          83  \n",
       "4              127 Hours {'Aron Ralston'}   NO          83  "
      ]
     },
     "execution_count": 13,
     "metadata": {},
     "output_type": "execute_result"
    }
   ],
   "source": [
    "actors = df[df.Category.isin(act_rows)].copy()\n",
    "actors.head()"
   ]
  },
  {
   "cell_type": "markdown",
   "metadata": {},
   "source": [
    "Having isolated all awards nominee for actors, now it's time to focus on the Additional Info column which provides information on the movie each actor/actress participated in and the role they had. But first it is important to eliminate the NaN values."
   ]
  },
  {
   "cell_type": "code",
   "execution_count": 14,
   "metadata": {
    "collapsed": false
   },
   "outputs": [
    {
     "data": {
      "text/plain": [
       "15"
      ]
     },
     "execution_count": 14,
     "metadata": {},
     "output_type": "execute_result"
    }
   ],
   "source": [
    "actors['Additional Info'].isnull().sum()"
   ]
  },
  {
   "cell_type": "markdown",
   "metadata": {},
   "source": [
    "Given the small amount of NaNs, these rows will be eliminated."
   ]
  },
  {
   "cell_type": "code",
   "execution_count": 15,
   "metadata": {
    "collapsed": false
   },
   "outputs": [
    {
     "data": {
      "text/plain": [
       "Year               0\n",
       "Category           0\n",
       "Nominee            0\n",
       "Additional Info    0\n",
       "Won?               0\n",
       "ceremony_id        0\n",
       "dtype: int64"
      ]
     },
     "execution_count": 15,
     "metadata": {},
     "output_type": "execute_result"
    }
   ],
   "source": [
    "actors.dropna(subset = ['Additional Info'], axis = 0, inplace = True)\n",
    "actors.isnull().sum()"
   ]
  },
  {
   "cell_type": "code",
   "execution_count": 16,
   "metadata": {
    "collapsed": false
   },
   "outputs": [
    {
     "data": {
      "text/html": [
       "<div>\n",
       "<table border=\"1\" class=\"dataframe\">\n",
       "  <thead>\n",
       "    <tr style=\"text-align: right;\">\n",
       "      <th></th>\n",
       "      <th>Year</th>\n",
       "      <th>Category</th>\n",
       "      <th>Nominee</th>\n",
       "      <th>Additional Info</th>\n",
       "      <th>Won?</th>\n",
       "      <th>ceremony_id</th>\n",
       "      <th>movies</th>\n",
       "      <th>role</th>\n",
       "    </tr>\n",
       "  </thead>\n",
       "  <tbody>\n",
       "    <tr>\n",
       "      <th>0</th>\n",
       "      <td>2010</td>\n",
       "      <td>Actor -- Leading Role</td>\n",
       "      <td>Javier Bardem</td>\n",
       "      <td>Biutiful {'Uxbal'}</td>\n",
       "      <td>NO</td>\n",
       "      <td>83</td>\n",
       "      <td>Biutiful</td>\n",
       "      <td>Uxbal</td>\n",
       "    </tr>\n",
       "    <tr>\n",
       "      <th>1</th>\n",
       "      <td>2010</td>\n",
       "      <td>Actor -- Leading Role</td>\n",
       "      <td>Jeff Bridges</td>\n",
       "      <td>True Grit {'Rooster Cogburn'}</td>\n",
       "      <td>NO</td>\n",
       "      <td>83</td>\n",
       "      <td>True Grit</td>\n",
       "      <td>Rooster Cogburn</td>\n",
       "    </tr>\n",
       "    <tr>\n",
       "      <th>2</th>\n",
       "      <td>2010</td>\n",
       "      <td>Actor -- Leading Role</td>\n",
       "      <td>Jesse Eisenberg</td>\n",
       "      <td>The Social Network {'Mark Zuckerberg'}</td>\n",
       "      <td>NO</td>\n",
       "      <td>83</td>\n",
       "      <td>The Social Network</td>\n",
       "      <td>Mark Zuckerberg</td>\n",
       "    </tr>\n",
       "    <tr>\n",
       "      <th>3</th>\n",
       "      <td>2010</td>\n",
       "      <td>Actor -- Leading Role</td>\n",
       "      <td>Colin Firth</td>\n",
       "      <td>The King's Speech {'King George VI'}</td>\n",
       "      <td>YES</td>\n",
       "      <td>83</td>\n",
       "      <td>The King's Speech</td>\n",
       "      <td>King George VI</td>\n",
       "    </tr>\n",
       "    <tr>\n",
       "      <th>4</th>\n",
       "      <td>2010</td>\n",
       "      <td>Actor -- Leading Role</td>\n",
       "      <td>James Franco</td>\n",
       "      <td>127 Hours {'Aron Ralston'}</td>\n",
       "      <td>NO</td>\n",
       "      <td>83</td>\n",
       "      <td>127 Hours</td>\n",
       "      <td>Aron Ralston</td>\n",
       "    </tr>\n",
       "  </tbody>\n",
       "</table>\n",
       "</div>"
      ],
      "text/plain": [
       "   Year               Category          Nominee  \\\n",
       "0  2010  Actor -- Leading Role    Javier Bardem   \n",
       "1  2010  Actor -- Leading Role     Jeff Bridges   \n",
       "2  2010  Actor -- Leading Role  Jesse Eisenberg   \n",
       "3  2010  Actor -- Leading Role      Colin Firth   \n",
       "4  2010  Actor -- Leading Role     James Franco   \n",
       "\n",
       "                          Additional Info Won? ceremony_id  \\\n",
       "0                      Biutiful {'Uxbal'}   NO          83   \n",
       "1           True Grit {'Rooster Cogburn'}   NO          83   \n",
       "2  The Social Network {'Mark Zuckerberg'}   NO          83   \n",
       "3    The King's Speech {'King George VI'}  YES          83   \n",
       "4              127 Hours {'Aron Ralston'}   NO          83   \n",
       "\n",
       "               movies             role  \n",
       "0            Biutiful            Uxbal  \n",
       "1           True Grit  Rooster Cogburn  \n",
       "2  The Social Network  Mark Zuckerberg  \n",
       "3   The King's Speech   King George VI  \n",
       "4           127 Hours     Aron Ralston  "
      ]
     },
     "execution_count": 16,
     "metadata": {},
     "output_type": "execute_result"
    }
   ],
   "source": [
    "actors['movies'] = [i.split(' {')[0] for i in actors['Additional Info']]\n",
    "actors['role'] = [i[i.find('{')+2:i.find('}')-1] for i in actors['Additional Info']]\n",
    "actors.head()"
   ]
  },
  {
   "cell_type": "code",
   "execution_count": 17,
   "metadata": {
    "collapsed": false
   },
   "outputs": [
    {
     "data": {
      "text/plain": [
       "['Animated Feature Film',\n",
       " 'Art Direction',\n",
       " 'Cinematography',\n",
       " 'Costume Design',\n",
       " 'Directing',\n",
       " 'Documentary (Feature)',\n",
       " 'Documentary (Short Subject)',\n",
       " 'Film Editing',\n",
       " 'Foreign Language Film',\n",
       " 'Makeup',\n",
       " 'Music (Scoring)',\n",
       " 'Music (Song)',\n",
       " 'Best Picture',\n",
       " 'Short Film (Animated)',\n",
       " 'Short Film (Live Action)',\n",
       " 'Sound',\n",
       " 'Sound Editing',\n",
       " 'Visual Effects',\n",
       " 'Writing',\n",
       " 'Honorary Award',\n",
       " 'Irving G. Thalberg Memorial Award',\n",
       " 'Scientific and Technical (Scientific and Engineering Award)',\n",
       " 'Scientific and Technical (Technical Achievement Award)',\n",
       " 'Scientific and Technical (Bonner Medal)',\n",
       " 'Jean Hersholt Humanitarian Award',\n",
       " 'Scientific and Technical (Gordon E. Sawyer Award)',\n",
       " 'Scientific and Technical (Academy Award of Merit)',\n",
       " 'Scientific and Technical (Special Awards)',\n",
       " 'Special Achievement Award',\n",
       " 'Special Effects (archaic category)',\n",
       " 'Documentary (other)',\n",
       " 'Assistant Director (archaic category)',\n",
       " 'Dance Direction (archaic category)',\n",
       " 'Engineering Effects (archaic category)',\n",
       " 'Unique and Artistic Picture (archaic category)']"
      ]
     },
     "execution_count": 17,
     "metadata": {},
     "output_type": "execute_result"
    }
   ],
   "source": [
    "tech_rows = [i for i in df.Category.unique() if i not in act_rows]\n",
    "tech_rows"
   ]
  },
  {
   "cell_type": "code",
   "execution_count": 18,
   "metadata": {
    "collapsed": false
   },
   "outputs": [
    {
     "data": {
      "text/html": [
       "<div>\n",
       "<table border=\"1\" class=\"dataframe\">\n",
       "  <thead>\n",
       "    <tr style=\"text-align: right;\">\n",
       "      <th></th>\n",
       "      <th>Year</th>\n",
       "      <th>Category</th>\n",
       "      <th>Nominee</th>\n",
       "      <th>Additional Info</th>\n",
       "      <th>Won?</th>\n",
       "      <th>ceremony_id</th>\n",
       "    </tr>\n",
       "  </thead>\n",
       "  <tbody>\n",
       "    <tr>\n",
       "      <th>20</th>\n",
       "      <td>2010</td>\n",
       "      <td>Animated Feature Film</td>\n",
       "      <td>How to Train Your Dragon</td>\n",
       "      <td>Chris Sanders and Dean DeBlois</td>\n",
       "      <td>NO</td>\n",
       "      <td>83</td>\n",
       "    </tr>\n",
       "    <tr>\n",
       "      <th>21</th>\n",
       "      <td>2010</td>\n",
       "      <td>Animated Feature Film</td>\n",
       "      <td>The Illusionist</td>\n",
       "      <td>Sylvain Chomet</td>\n",
       "      <td>NO</td>\n",
       "      <td>83</td>\n",
       "    </tr>\n",
       "    <tr>\n",
       "      <th>22</th>\n",
       "      <td>2010</td>\n",
       "      <td>Animated Feature Film</td>\n",
       "      <td>Toy Story 3</td>\n",
       "      <td>Lee Unkrich</td>\n",
       "      <td>YES</td>\n",
       "      <td>83</td>\n",
       "    </tr>\n",
       "    <tr>\n",
       "      <th>23</th>\n",
       "      <td>2010</td>\n",
       "      <td>Art Direction</td>\n",
       "      <td>Alice in Wonderland</td>\n",
       "      <td>Production Design: Robert Stromberg; Set Decor...</td>\n",
       "      <td>YES</td>\n",
       "      <td>83</td>\n",
       "    </tr>\n",
       "    <tr>\n",
       "      <th>24</th>\n",
       "      <td>2010</td>\n",
       "      <td>Art Direction</td>\n",
       "      <td>Harry Potter and the Deathly Hallows Part 1</td>\n",
       "      <td>Production Design: Stuart Craig; Set Decoratio...</td>\n",
       "      <td>NO</td>\n",
       "      <td>83</td>\n",
       "    </tr>\n",
       "  </tbody>\n",
       "</table>\n",
       "</div>"
      ],
      "text/plain": [
       "    Year               Category                                      Nominee  \\\n",
       "20  2010  Animated Feature Film                     How to Train Your Dragon   \n",
       "21  2010  Animated Feature Film                              The Illusionist   \n",
       "22  2010  Animated Feature Film                                  Toy Story 3   \n",
       "23  2010          Art Direction                          Alice in Wonderland   \n",
       "24  2010          Art Direction  Harry Potter and the Deathly Hallows Part 1   \n",
       "\n",
       "                                      Additional Info Won? ceremony_id  \n",
       "20                     Chris Sanders and Dean DeBlois   NO          83  \n",
       "21                                     Sylvain Chomet   NO          83  \n",
       "22                                        Lee Unkrich  YES          83  \n",
       "23  Production Design: Robert Stromberg; Set Decor...  YES          83  \n",
       "24  Production Design: Stuart Craig; Set Decoratio...   NO          83  "
      ]
     },
     "execution_count": 18,
     "metadata": {},
     "output_type": "execute_result"
    }
   ],
   "source": [
    "tech = df[df.Category.isin(tech_rows)].copy()\n",
    "tech.head()"
   ]
  },
  {
   "cell_type": "markdown",
   "metadata": {},
   "source": [
    "Having split the dataset into two different ones (actors, and tech), there's need to be a new dataset that can link both of thes e. For the time being, this will have information only for the ceremony itself: year and id."
   ]
  },
  {
   "cell_type": "code",
   "execution_count": 19,
   "metadata": {
    "collapsed": false
   },
   "outputs": [
    {
     "data": {
      "text/html": [
       "<div>\n",
       "<table border=\"1\" class=\"dataframe\">\n",
       "  <thead>\n",
       "    <tr style=\"text-align: right;\">\n",
       "      <th></th>\n",
       "      <th>ceremony_id</th>\n",
       "      <th>year</th>\n",
       "    </tr>\n",
       "  </thead>\n",
       "  <tbody>\n",
       "    <tr>\n",
       "      <th>0</th>\n",
       "      <td>83</td>\n",
       "      <td>2010</td>\n",
       "    </tr>\n",
       "    <tr>\n",
       "      <th>1</th>\n",
       "      <td>82</td>\n",
       "      <td>2009</td>\n",
       "    </tr>\n",
       "    <tr>\n",
       "      <th>2</th>\n",
       "      <td>81</td>\n",
       "      <td>2008</td>\n",
       "    </tr>\n",
       "    <tr>\n",
       "      <th>3</th>\n",
       "      <td>80</td>\n",
       "      <td>2007</td>\n",
       "    </tr>\n",
       "    <tr>\n",
       "      <th>4</th>\n",
       "      <td>79</td>\n",
       "      <td>2006</td>\n",
       "    </tr>\n",
       "  </tbody>\n",
       "</table>\n",
       "</div>"
      ],
      "text/plain": [
       "  ceremony_id  year\n",
       "0          83  2010\n",
       "1          82  2009\n",
       "2          81  2008\n",
       "3          80  2007\n",
       "4          79  2006"
      ]
     },
     "execution_count": 19,
     "metadata": {},
     "output_type": "execute_result"
    }
   ],
   "source": [
    "ceremonies = pd.DataFrame({\n",
    "    'year' : df.Year.unique(),\n",
    "    'ceremony_id' : df.ceremony_id.unique()\n",
    "})\n",
    "ceremonies.head()"
   ]
  },
  {
   "cell_type": "code",
   "execution_count": 20,
   "metadata": {
    "collapsed": false
   },
   "outputs": [],
   "source": [
    "nominations = pd.Series(df.groupby('Year').size()).reset_index()"
   ]
  },
  {
   "cell_type": "code",
   "execution_count": 21,
   "metadata": {
    "collapsed": false
   },
   "outputs": [],
   "source": [
    "ceremonies = ceremonies.merge(nominations, left_on = 'year', right_on = 'Year')"
   ]
  },
  {
   "cell_type": "code",
   "execution_count": 22,
   "metadata": {
    "collapsed": false
   },
   "outputs": [
    {
     "data": {
      "text/html": [
       "<div>\n",
       "<table border=\"1\" class=\"dataframe\">\n",
       "  <thead>\n",
       "    <tr style=\"text-align: right;\">\n",
       "      <th></th>\n",
       "      <th>ceremony_id</th>\n",
       "      <th>Year</th>\n",
       "      <th>nominations</th>\n",
       "    </tr>\n",
       "  </thead>\n",
       "  <tbody>\n",
       "    <tr>\n",
       "      <th>0</th>\n",
       "      <td>83</td>\n",
       "      <td>2010</td>\n",
       "      <td>135</td>\n",
       "    </tr>\n",
       "    <tr>\n",
       "      <th>1</th>\n",
       "      <td>82</td>\n",
       "      <td>2009</td>\n",
       "      <td>140</td>\n",
       "    </tr>\n",
       "    <tr>\n",
       "      <th>2</th>\n",
       "      <td>81</td>\n",
       "      <td>2008</td>\n",
       "      <td>118</td>\n",
       "    </tr>\n",
       "    <tr>\n",
       "      <th>3</th>\n",
       "      <td>80</td>\n",
       "      <td>2007</td>\n",
       "      <td>127</td>\n",
       "    </tr>\n",
       "    <tr>\n",
       "      <th>4</th>\n",
       "      <td>79</td>\n",
       "      <td>2006</td>\n",
       "      <td>130</td>\n",
       "    </tr>\n",
       "  </tbody>\n",
       "</table>\n",
       "</div>"
      ],
      "text/plain": [
       "  ceremony_id  Year  nominations\n",
       "0          83  2010          135\n",
       "1          82  2009          140\n",
       "2          81  2008          118\n",
       "3          80  2007          127\n",
       "4          79  2006          130"
      ]
     },
     "execution_count": 22,
     "metadata": {},
     "output_type": "execute_result"
    }
   ],
   "source": [
    "ceremonies.drop('year', axis = 1, inplace = True)\n",
    "ceremonies.rename(columns = {0:'nominations'}, inplace = True)\n",
    "ceremonies.head()"
   ]
  },
  {
   "cell_type": "markdown",
   "metadata": {},
   "source": [
    "As of now, there are three datasets that come from the original: ceremonies, tech, and actors. These will be the tables that form part of the the db, with the ceremonies table the one that connects them all together.\n",
    "\n",
    "### The Won? column\n",
    "\n",
    "The SQLite column does not support boolean values, therefore it would be convenient to transform this column so that it can be queried and aggregated for calculations easier. That is why the values will be changed to 1 (YES) and 0 (NO). All datasets that will belong to the final db, must be formatted like so."
   ]
  },
  {
   "cell_type": "code",
   "execution_count": 23,
   "metadata": {
    "collapsed": false
   },
   "outputs": [
    {
     "name": "stdout",
     "output_type": "stream",
     "text": [
      "    Year               Category                                      Nominee  \\\n",
      "20  2010  Animated Feature Film                     How to Train Your Dragon   \n",
      "21  2010  Animated Feature Film                              The Illusionist   \n",
      "22  2010  Animated Feature Film                                  Toy Story 3   \n",
      "23  2010          Art Direction                          Alice in Wonderland   \n",
      "24  2010          Art Direction  Harry Potter and the Deathly Hallows Part 1   \n",
      "\n",
      "                                      Additional Info  Won? ceremony_id  \n",
      "20                     Chris Sanders and Dean DeBlois   0.0          83  \n",
      "21                                     Sylvain Chomet   0.0          83  \n",
      "22                                        Lee Unkrich   1.0          83  \n",
      "23  Production Design: Robert Stromberg; Set Decor...   1.0          83  \n",
      "24  Production Design: Stuart Craig; Set Decoratio...   0.0          83  \n",
      "   Year               Category          Nominee  \\\n",
      "0  2010  Actor -- Leading Role    Javier Bardem   \n",
      "1  2010  Actor -- Leading Role     Jeff Bridges   \n",
      "2  2010  Actor -- Leading Role  Jesse Eisenberg   \n",
      "3  2010  Actor -- Leading Role      Colin Firth   \n",
      "4  2010  Actor -- Leading Role     James Franco   \n",
      "\n",
      "                          Additional Info  Won? ceremony_id  \\\n",
      "0                      Biutiful {'Uxbal'}     0          83   \n",
      "1           True Grit {'Rooster Cogburn'}     0          83   \n",
      "2  The Social Network {'Mark Zuckerberg'}     0          83   \n",
      "3    The King's Speech {'King George VI'}     1          83   \n",
      "4              127 Hours {'Aron Ralston'}     0          83   \n",
      "\n",
      "               movies             role  \n",
      "0            Biutiful            Uxbal  \n",
      "1           True Grit  Rooster Cogburn  \n",
      "2  The Social Network  Mark Zuckerberg  \n",
      "3   The King's Speech   King George VI  \n",
      "4           127 Hours     Aron Ralston  \n"
     ]
    }
   ],
   "source": [
    "bol_val = {\n",
    "    'NO' : 0,\n",
    "    'YES' : 1\n",
    "}\n",
    "\n",
    "tech['Won?'] = tech['Won?'].map(bol_val)\n",
    "actors['Won?'] = actors['Won?'].map(bol_val)\n",
    "print(tech.head())\n",
    "print(actors.head())\n"
   ]
  },
  {
   "cell_type": "markdown",
   "metadata": {},
   "source": [
    "Something that might be useful for the future the amount of awards given on every ceremony. An extra column for the ceremonies table (awarded) will sum all of the awards given on that ceremony."
   ]
  },
  {
   "cell_type": "code",
   "execution_count": 24,
   "metadata": {
    "collapsed": false
   },
   "outputs": [
    {
     "name": "stdout",
     "output_type": "stream",
     "text": [
      "      Won?\n",
      "Year      \n",
      "1927  15.0\n",
      "1928   5.0\n",
      "1929   6.0\n",
      "1930  13.0\n",
      "1931  13.0\n",
      "\n",
      "      Won?\n",
      "Year      \n",
      "1927     2\n",
      "1928     2\n",
      "1929     2\n",
      "1930     2\n",
      "1931     3\n",
      "83 83\n"
     ]
    },
    {
     "data": {
      "text/html": [
       "<div>\n",
       "<table border=\"1\" class=\"dataframe\">\n",
       "  <thead>\n",
       "    <tr style=\"text-align: right;\">\n",
       "      <th></th>\n",
       "      <th>Won?</th>\n",
       "    </tr>\n",
       "    <tr>\n",
       "      <th>Year</th>\n",
       "      <th></th>\n",
       "    </tr>\n",
       "  </thead>\n",
       "  <tbody>\n",
       "    <tr>\n",
       "      <th>1927</th>\n",
       "      <td>17.0</td>\n",
       "    </tr>\n",
       "    <tr>\n",
       "      <th>1928</th>\n",
       "      <td>7.0</td>\n",
       "    </tr>\n",
       "    <tr>\n",
       "      <th>1929</th>\n",
       "      <td>8.0</td>\n",
       "    </tr>\n",
       "    <tr>\n",
       "      <th>1930</th>\n",
       "      <td>15.0</td>\n",
       "    </tr>\n",
       "    <tr>\n",
       "      <th>1931</th>\n",
       "      <td>16.0</td>\n",
       "    </tr>\n",
       "  </tbody>\n",
       "</table>\n",
       "</div>"
      ],
      "text/plain": [
       "      Won?\n",
       "Year      \n",
       "1927  17.0\n",
       "1928   7.0\n",
       "1929   8.0\n",
       "1930  15.0\n",
       "1931  16.0"
      ]
     },
     "execution_count": 24,
     "metadata": {},
     "output_type": "execute_result"
    }
   ],
   "source": [
    "import numpy as np\n",
    "awards_t = tech.groupby('Year').agg({'Won?': np.sum})\n",
    "awards_a = actors.groupby('Year').agg({'Won?':np.sum})\n",
    "\n",
    "print(awards_t.head())\n",
    "print()\n",
    "print(awards_a.head())\n",
    "print(len(awards_a), len(awards_t))\n",
    "\n",
    "awards = awards_a + awards_t\n",
    "awards.head()"
   ]
  },
  {
   "cell_type": "code",
   "execution_count": 30,
   "metadata": {
    "collapsed": false
   },
   "outputs": [
    {
     "data": {
      "text/html": [
       "<div>\n",
       "<table border=\"1\" class=\"dataframe\">\n",
       "  <thead>\n",
       "    <tr style=\"text-align: right;\">\n",
       "      <th></th>\n",
       "      <th>ceremony_id</th>\n",
       "      <th>year</th>\n",
       "      <th>nominations</th>\n",
       "      <th>awards</th>\n",
       "    </tr>\n",
       "  </thead>\n",
       "  <tbody>\n",
       "    <tr>\n",
       "      <th>0</th>\n",
       "      <td>83</td>\n",
       "      <td>2010</td>\n",
       "      <td>135</td>\n",
       "      <td>38.0</td>\n",
       "    </tr>\n",
       "    <tr>\n",
       "      <th>1</th>\n",
       "      <td>82</td>\n",
       "      <td>2009</td>\n",
       "      <td>140</td>\n",
       "      <td>43.0</td>\n",
       "    </tr>\n",
       "    <tr>\n",
       "      <th>2</th>\n",
       "      <td>81</td>\n",
       "      <td>2008</td>\n",
       "      <td>118</td>\n",
       "      <td>31.0</td>\n",
       "    </tr>\n",
       "    <tr>\n",
       "      <th>3</th>\n",
       "      <td>80</td>\n",
       "      <td>2007</td>\n",
       "      <td>127</td>\n",
       "      <td>36.0</td>\n",
       "    </tr>\n",
       "    <tr>\n",
       "      <th>4</th>\n",
       "      <td>79</td>\n",
       "      <td>2006</td>\n",
       "      <td>130</td>\n",
       "      <td>41.0</td>\n",
       "    </tr>\n",
       "  </tbody>\n",
       "</table>\n",
       "</div>"
      ],
      "text/plain": [
       "  ceremony_id  year  nominations  awards\n",
       "0          83  2010          135    38.0\n",
       "1          82  2009          140    43.0\n",
       "2          81  2008          118    31.0\n",
       "3          80  2007          127    36.0\n",
       "4          79  2006          130    41.0"
      ]
     },
     "execution_count": 30,
     "metadata": {},
     "output_type": "execute_result"
    }
   ],
   "source": [
    "ceremonies = ceremonies.merge(awards, left_on= 'Year', right_index= True)\n",
    "ceremonies.rename(columns = {'Won?': 'awards', 'Year':'year'}, inplace = True)\n",
    "ceremonies.head()"
   ]
  },
  {
   "cell_type": "code",
   "execution_count": 37,
   "metadata": {
    "collapsed": false
   },
   "outputs": [
    {
     "data": {
      "text/plain": [
       "Year                  0\n",
       "Category              0\n",
       "Nominee               0\n",
       "Additional Info    1111\n",
       "Won?                 14\n",
       "ceremony_id           0\n",
       "dtype: int64"
      ]
     },
     "execution_count": 37,
     "metadata": {},
     "output_type": "execute_result"
    }
   ],
   "source": [
    "ceremonies.isnull().sum()\n",
    "tech.isnull().sum()"
   ]
  },
  {
   "cell_type": "markdown",
   "metadata": {},
   "source": [
    "The tech table has NaN values that must be eliminated."
   ]
  },
  {
   "cell_type": "code",
   "execution_count": 42,
   "metadata": {
    "collapsed": false
   },
   "outputs": [
    {
     "data": {
      "text/plain": [
       "Year               0\n",
       "Category           0\n",
       "Nominee            0\n",
       "Additional Info    0\n",
       "Won?               0\n",
       "ceremony_id        0\n",
       "dtype: int64"
      ]
     },
     "execution_count": 42,
     "metadata": {},
     "output_type": "execute_result"
    }
   ],
   "source": [
    "tech.dropna(inplace = True)\n",
    "tech.isnull().sum()"
   ]
  },
  {
   "cell_type": "markdown",
   "metadata": {},
   "source": [
    "## Academy Award Database (aadb)\n",
    "\n",
    "With all tables of the database created, the db must be created and, later, the connections between all tables."
   ]
  },
  {
   "cell_type": "code",
   "execution_count": 43,
   "metadata": {
    "collapsed": true
   },
   "outputs": [],
   "source": [
    "conn = sqlite3.connect('aadb.db')"
   ]
  },
  {
   "cell_type": "code",
   "execution_count": 44,
   "metadata": {
    "collapsed": false
   },
   "outputs": [
    {
     "name": "stderr",
     "output_type": "stream",
     "text": [
      "C:\\ProgramData\\Anaconda3\\lib\\site-packages\\pandas\\core\\generic.py:1201: UserWarning: The spaces in these column names will not be changed. In pandas versions < 0.14, spaces were converted to underscores.\n",
      "  chunksize=chunksize, dtype=dtype)\n"
     ]
    }
   ],
   "source": [
    "tech.to_sql('tech', conn, index = False)\n",
    "ceremonies.to_sql('ceremonies', conn, index = False)\n",
    "actors.to_sql('actors', conn, index = False)\n"
   ]
  },
  {
   "cell_type": "code",
   "execution_count": 46,
   "metadata": {
    "collapsed": false
   },
   "outputs": [
    {
     "data": {
      "text/plain": [
       "[('2010',\n",
       "  'Animated Feature Film',\n",
       "  'How to Train Your Dragon',\n",
       "  'Chris Sanders and Dean DeBlois',\n",
       "  0.0,\n",
       "  '83'),\n",
       " ('2010',\n",
       "  'Animated Feature Film',\n",
       "  'The Illusionist',\n",
       "  'Sylvain Chomet',\n",
       "  0.0,\n",
       "  '83'),\n",
       " ('2010', 'Animated Feature Film', 'Toy Story 3', 'Lee Unkrich', 1.0, '83'),\n",
       " ('2010',\n",
       "  'Art Direction',\n",
       "  'Alice in Wonderland',\n",
       "  \"Production Design: Robert Stromberg; Set Decoration: Karen O'Hara\",\n",
       "  1.0,\n",
       "  '83'),\n",
       " ('2010',\n",
       "  'Art Direction',\n",
       "  'Harry Potter and the Deathly Hallows Part 1',\n",
       "  'Production Design: Stuart Craig; Set Decoration: Stephenie McMillan',\n",
       "  0.0,\n",
       "  '83')]"
      ]
     },
     "execution_count": 46,
     "metadata": {},
     "output_type": "execute_result"
    }
   ],
   "source": [
    "q = '''\n",
    "SELECT *\n",
    "FROM tech\n",
    "LIMIT 5\n",
    "'''\n",
    "conn.execute(q).fetchall()"
   ]
  },
  {
   "cell_type": "code",
   "execution_count": null,
   "metadata": {
    "collapsed": true
   },
   "outputs": [],
   "source": []
  }
 ],
 "metadata": {
  "kernelspec": {
   "display_name": "Python 3",
   "language": "python",
   "name": "python3"
  },
  "language_info": {
   "codemirror_mode": {
    "name": "ipython",
    "version": 3
   },
   "file_extension": ".py",
   "mimetype": "text/x-python",
   "name": "python",
   "nbconvert_exporter": "python",
   "pygments_lexer": "ipython3",
   "version": "3.6.0"
  }
 },
 "nbformat": 4,
 "nbformat_minor": 2
}
